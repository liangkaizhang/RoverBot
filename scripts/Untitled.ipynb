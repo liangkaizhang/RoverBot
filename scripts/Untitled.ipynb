{
 "cells": [
  {
   "cell_type": "code",
   "execution_count": 40,
   "id": "939bf11f",
   "metadata": {},
   "outputs": [],
   "source": [
    "import struct\n",
    "\n",
    "bytes = b'\\xcd\\xab'\n",
    "code = struct.unpack('H', xs)"
   ]
  },
  {
   "cell_type": "code",
   "execution_count": 45,
   "id": "a6f1fbd7",
   "metadata": {},
   "outputs": [],
   "source": [
    "xs = bytearray()"
   ]
  },
  {
   "cell_type": "code",
   "execution_count": 86,
   "id": "d576b350",
   "metadata": {},
   "outputs": [],
   "source": [
    "class SerialDecoder:\n",
    "    _bytes = bytearray()\n",
    "\n",
    "    def call(self):\n",
    "        self._bytes.append(int.from_bytes(b'\\xcd', byteorder='big'))\n",
    "        self._bytes.append(int.from_bytes(b'\\xab', byteorder='big'))"
   ]
  },
  {
   "cell_type": "code",
   "execution_count": 87,
   "id": "040548aa",
   "metadata": {},
   "outputs": [],
   "source": [
    "s = SerialDecoder()\n",
    "s.call()"
   ]
  },
  {
   "cell_type": "code",
   "execution_count": 93,
   "id": "347630a8",
   "metadata": {},
   "outputs": [
    {
     "data": {
      "text/plain": [
       "bytearray(b'\\xcd\\xab')"
      ]
     },
     "execution_count": 93,
     "metadata": {},
     "output_type": "execute_result"
    }
   ],
   "source": [
    "s._bytes"
   ]
  },
  {
   "cell_type": "code",
   "execution_count": 92,
   "id": "5e88d1b7",
   "metadata": {},
   "outputs": [
    {
     "data": {
      "text/plain": [
       "(43981,)"
      ]
     },
     "execution_count": 92,
     "metadata": {},
     "output_type": "execute_result"
    }
   ],
   "source": [
    "code = struct.unpack('H', s._bytes)\n",
    "code"
   ]
  },
  {
   "cell_type": "code",
   "execution_count": 94,
   "id": "42344172",
   "metadata": {},
   "outputs": [],
   "source": [
    "class Node:\n",
    "    memory = {}\n",
    "\n",
    "    def publish(self, topic, value):\n",
    "        self.memory[topic] = value\n",
    "    \n",
    "    def subscribe(self, topic):\n",
    "        return self.memory[topic]"
   ]
  },
  {
   "cell_type": "code",
   "execution_count": 102,
   "id": "41c25216",
   "metadata": {},
   "outputs": [],
   "source": [
    "class NodeA(Node):\n",
    "    \n",
    "    def spin(self):\n",
    "        pass\n",
    "        \n",
    "a = NodeA()\n",
    "a.publish('value', 10)"
   ]
  },
  {
   "cell_type": "code",
   "execution_count": 103,
   "id": "0a9ff2de",
   "metadata": {},
   "outputs": [
    {
     "data": {
      "text/plain": [
       "10"
      ]
     },
     "execution_count": 103,
     "metadata": {},
     "output_type": "execute_result"
    }
   ],
   "source": [
    "class NodeB(Node):\n",
    "    \n",
    "    def spin(self):\n",
    "        pass\n",
    "        \n",
    "b = NodeB()\n",
    "b.subscribe('value')"
   ]
  }
 ],
 "metadata": {
  "kernelspec": {
   "display_name": "Python 3 (ipykernel)",
   "language": "python",
   "name": "python3"
  },
  "language_info": {
   "codemirror_mode": {
    "name": "ipython",
    "version": 3
   },
   "file_extension": ".py",
   "mimetype": "text/x-python",
   "name": "python",
   "nbconvert_exporter": "python",
   "pygments_lexer": "ipython3",
   "version": "3.9.8"
  }
 },
 "nbformat": 4,
 "nbformat_minor": 5
}
